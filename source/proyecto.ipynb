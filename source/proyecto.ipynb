{
 "cells": [
  {
   "cell_type": "code",
   "execution_count": 2,
   "metadata": {},
   "outputs": [
    {
     "name": "stdout",
     "output_type": "stream",
     "text": [
      "Primer proyecto\n"
     ]
    }
   ],
   "source": [
    "import numpy as np\n",
    "print('Primer proyecto')"
   ]
  }
 ],
 "metadata": {
  "interpreter": {
   "hash": "a8ee33a1ee40956f294c18e55134af65b11f3cbe49342295e6894550b903c08a"
  },
  "kernelspec": {
   "display_name": "Python 3.8.8 ('Pythonenv': venv)",
   "language": "python",
   "name": "python3"
  },
  "language_info": {
   "codemirror_mode": {
    "name": "ipython",
    "version": 3
   },
   "file_extension": ".py",
   "mimetype": "text/x-python",
   "name": "python",
   "nbconvert_exporter": "python",
   "pygments_lexer": "ipython3",
   "version": "3.8.8"
  },
  "orig_nbformat": 4
 },
 "nbformat": 4,
 "nbformat_minor": 2
}
